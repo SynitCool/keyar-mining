{
 "cells": [
  {
   "cell_type": "markdown",
   "metadata": {},
   "source": [
    "## The implementation of krmining.external.Wrapper Beta version"
   ]
  },
  {
   "cell_type": "code",
   "execution_count": 1,
   "metadata": {},
   "outputs": [],
   "source": [
    "from krmining.external import Wrapper\n",
    "from krmining.clustering import KMeans\n",
    "from krmining.datasets import get_example_covid_id\n",
    "\n",
    "import dill"
   ]
  },
  {
   "cell_type": "markdown",
   "metadata": {},
   "source": [
    "### Create the model"
   ]
  },
  {
   "cell_type": "code",
   "execution_count": 2,
   "metadata": {},
   "outputs": [
    {
     "name": "stderr",
     "output_type": "stream",
     "text": [
      "c:\\Users\\Bina Umat\\Desktop\\Project\\krmining_project\\keyar-mining\\krmining\\clustering\\_kmeans.py:22: UserWarning: The model still in maintaining in slow or extended memory\n",
      "  warnings.warn(\n"
     ]
    }
   ],
   "source": [
    "# Make model and save\n",
    "df = get_example_covid_id()\n",
    "\n",
    "for column in df.columns:\n",
    "    df[column] = df[column] / df[column].max()\n",
    "\n",
    "kmeans = KMeans(k=3, init=\"kmeans++\")\n",
    "kmeans.fit(df)\n",
    "\n",
    "test_object = dill.dumps(kmeans)"
   ]
  },
  {
   "cell_type": "markdown",
   "metadata": {},
   "source": [
    "## Create the wrapper"
   ]
  },
  {
   "cell_type": "code",
   "execution_count": 3,
   "metadata": {},
   "outputs": [
    {
     "name": "stdout",
     "output_type": "stream",
     "text": [
      "data_normalize is saved\n",
      "cluster_predict is saved\n"
     ]
    }
   ],
   "source": [
    "# make wrapper\n",
    "\n",
    "wrapper_object = Wrapper()\n",
    "\n",
    "@wrapper_object.save_func(\"data_normalize\")\n",
    "def data_normalize(df, binary_model):\n",
    "    for column in df.columns:\n",
    "        df[column] = df[column] / df[column].max()\n",
    "\n",
    "    return df, binary_model\n",
    "\n",
    "@wrapper_object.save_func(\"cluster_predict\")\n",
    "def cluster_predict(df, binary_model):\n",
    "    import dill\n",
    "\n",
    "    model = dill.loads(binary_model)\n",
    "\n",
    "    cluster = model.predict(df)\n",
    "\n",
    "    return cluster\n",
    "\n",
    "wrapper_object.add_step(\"data_normalize\")\n",
    "wrapper_object.add_step(\"cluster_predict\")"
   ]
  },
  {
   "cell_type": "markdown",
   "metadata": {},
   "source": [
    "## Load the wrapper"
   ]
  },
  {
   "cell_type": "code",
   "execution_count": 4,
   "metadata": {},
   "outputs": [
    {
     "name": "stdout",
     "output_type": "stream",
     "text": [
      "----------------\n",
      "Before execution\n",
      "----------------\n",
      "- Time to execute data_normalize function: 0.0019981861114501953\n",
      "- Time to execute cluster_predict function: 0.0050427913665771484\n",
      "---------------\n",
      "After execution\n",
      "---------------\n"
     ]
    },
    {
     "data": {
      "text/plain": [
       "array([2, 0, 0, 2, 0, 1, 2, 2, 1, 1, 1, 2, 0, 2, 0, 2, 2, 2, 2, 2, 2, 2,\n",
       "       2, 2, 2, 0, 2, 0, 2, 2, 2, 0, 0, 0], dtype=int64)"
      ]
     },
     "execution_count": 4,
     "metadata": {},
     "output_type": "execute_result"
    }
   ],
   "source": [
    "cluster = wrapper_object.load_func(df, test_object)\n",
    "cluster"
   ]
  },
  {
   "cell_type": "markdown",
   "metadata": {},
   "source": [
    "## Saving the wrapper and load"
   ]
  },
  {
   "cell_type": "code",
   "execution_count": 5,
   "metadata": {},
   "outputs": [
    {
     "name": "stdout",
     "output_type": "stream",
     "text": [
      "----------------\n",
      "Before execution\n",
      "----------------\n",
      "- Time to execute data_normalize function: 0.0019526481628417969\n",
      "- Time to execute cluster_predict function: 0.0029952526092529297\n",
      "---------------\n",
      "After execution\n",
      "---------------\n"
     ]
    },
    {
     "data": {
      "text/plain": [
       "array([2, 0, 0, 2, 0, 1, 2, 2, 1, 1, 1, 2, 0, 2, 0, 2, 2, 2, 2, 2, 2, 2,\n",
       "       2, 2, 2, 0, 2, 0, 2, 2, 2, 0, 0, 0], dtype=int64)"
      ]
     },
     "execution_count": 5,
     "metadata": {},
     "output_type": "execute_result"
    }
   ],
   "source": [
    "saved_wrapper = wrapper_object.save_object_to_var()\n",
    "load_wrapper = dill.loads(saved_wrapper)\n",
    "\n",
    "load_wrapper.load_func(df, test_object)"
   ]
  }
 ],
 "metadata": {
  "interpreter": {
   "hash": "cd5b1d2da00035e3f63fc0bd24ec487a58dced304de147a4752900d3b912afe1"
  },
  "kernelspec": {
   "display_name": "Python 3.8.8 64-bit ('base': conda)",
   "language": "python",
   "name": "python3"
  },
  "language_info": {
   "codemirror_mode": {
    "name": "ipython",
    "version": 3
   },
   "file_extension": ".py",
   "mimetype": "text/x-python",
   "name": "python",
   "nbconvert_exporter": "python",
   "pygments_lexer": "ipython3",
   "version": "3.8.8"
  },
  "orig_nbformat": 4
 },
 "nbformat": 4,
 "nbformat_minor": 2
}
