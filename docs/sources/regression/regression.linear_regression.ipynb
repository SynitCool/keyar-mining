{
 "cells": [
  {
   "cell_type": "code",
   "execution_count": 1,
   "id": "34e20de8",
   "metadata": {},
   "outputs": [],
   "source": [
    "from krmining.regression import LinearRegression"
   ]
  },
  {
   "cell_type": "markdown",
   "id": "bd247d99",
   "metadata": {},
   "source": [
    "**Info**\n",
    "-----\n",
    "- The model is still in development\n",
    "- The model is still need to be optimize\n",
    "- The model is not for multiple features"
   ]
  },
  {
   "cell_type": "markdown",
   "id": "87cd4d5f",
   "metadata": {},
   "source": [
    "# Using dummy data"
   ]
  },
  {
   "cell_type": "code",
   "execution_count": 2,
   "id": "0d3781da",
   "metadata": {},
   "outputs": [],
   "source": [
    "X = [[0.42521773],\n",
    "     [0.10538228],\n",
    "     [-1.09857726],\n",
    "     [-0.23224205],\n",
    "     [-0.29271159],\n",
    "     [0.71534995],\n",
    "     [1.27215258],\n",
    "     [0.21612236],\n",
    "     [-0.4150023],\n",
    "     [1.00852528]]\n",
    "\n",
    "y = [38.9461915,\n",
    "     8.41264202,\n",
    "     -60.17317552,\n",
    "     -28.87914974,\n",
    "     -3.51220467,\n",
    "     32.06035364,\n",
    "     64.18618897,\n",
    "     -1.96365653,\n",
    "     -24.80110076,\n",
    "     65.67408856]"
   ]
  },
  {
   "cell_type": "code",
   "execution_count": 3,
   "id": "30c2de15",
   "metadata": {},
   "outputs": [
    {
     "name": "stderr",
     "output_type": "stream",
     "text": [
      "C:\\Users\\Bina Umat\\Desktop\\Project\\krmining_project\\keyar-mining\\krmining\\regression\\_linear_regression.py:24: UserWarning: The model still in maintaining in slow or extended memory\n",
      "  warnings.warn(\n"
     ]
    },
    {
     "data": {
      "text/plain": [
       "<krmining.regression._linear_regression.LinearRegression at 0x27d4d02b8e0>"
      ]
     },
     "execution_count": 3,
     "metadata": {},
     "output_type": "execute_result"
    }
   ],
   "source": [
    "lnr = LinearRegression()\n",
    "lnr.fit(X, y)"
   ]
  },
  {
   "cell_type": "code",
   "execution_count": 4,
   "id": "89c30d9e",
   "metadata": {},
   "outputs": [
    {
     "data": {
      "text/plain": [
       "array([ 23.16738313,   5.37736959, -61.5897428 , -13.40210406,\n",
       "       -16.76556466,  39.30523191,  70.2759274 ,  11.53699799,\n",
       "       -23.56766677,  55.61234574])"
      ]
     },
     "execution_count": 4,
     "metadata": {},
     "output_type": "execute_result"
    }
   ],
   "source": [
    "lnr.predict(X)"
   ]
  },
  {
   "cell_type": "code",
   "execution_count": 5,
   "id": "c4322ea4",
   "metadata": {},
   "outputs": [
    {
     "data": {
      "text/plain": [
       "{'SSE': 1049.9817049317817}"
      ]
     },
     "execution_count": 5,
     "metadata": {},
     "output_type": "execute_result"
    }
   ],
   "source": [
    "lnr.evaluate(X, y)"
   ]
  }
 ],
 "metadata": {
  "kernelspec": {
   "display_name": "Python 3",
   "language": "python",
   "name": "python3"
  },
  "language_info": {
   "codemirror_mode": {
    "name": "ipython",
    "version": 3
   },
   "file_extension": ".py",
   "mimetype": "text/x-python",
   "name": "python",
   "nbconvert_exporter": "python",
   "pygments_lexer": "ipython3",
   "version": "3.8.8"
  }
 },
 "nbformat": 4,
 "nbformat_minor": 5
}
