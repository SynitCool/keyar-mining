{
 "cells": [
  {
   "cell_type": "code",
   "execution_count": 1,
   "id": "0021b41e",
   "metadata": {},
   "outputs": [],
   "source": [
    "import numpy as np\n",
    "\n",
    "from krmining.classification import LogisticRegression"
   ]
  },
  {
   "cell_type": "markdown",
   "id": "9c3ea474",
   "metadata": {},
   "source": [
    "**Info**\n",
    "-----\n",
    "- The model is still in development.\n",
    "- The model is still need to be optimize\n",
    "- The model is using OneVsAll(OneVsRest) method"
   ]
  },
  {
   "cell_type": "markdown",
   "id": "8ce39e73",
   "metadata": {},
   "source": [
    "# Using dummy data"
   ]
  },
  {
   "cell_type": "code",
   "execution_count": 2,
   "id": "64b41294",
   "metadata": {},
   "outputs": [],
   "source": [
    "X = [[-0.94811012], \n",
    "     [-0.62510428], \n",
    "     [0.541039], \n",
    "     [0.55501738], \n",
    "     [-1.69834878], \n",
    "     [-1.62414782], \n",
    "     [-0.09021422], \n",
    "     [0.4195677], \n",
    "     [0.3861758],\n",
    "     [1.78107583]]\n",
    "\n",
    "y = [1, 1, 1, 0, 0, 0, 1, 0, 0, 1]"
   ]
  },
  {
   "cell_type": "code",
   "execution_count": 4,
   "id": "c371b756",
   "metadata": {},
   "outputs": [
    {
     "name": "stderr",
     "output_type": "stream",
     "text": [
      "c:\\Users\\Bina Umat\\Desktop\\Project\\krmining_project\\keyar-mining\\krmining\\classification\\_logistic_regression.py:39: UserWarning: The model still in maintaining in slow or extended memory\n",
      "  warnings.warn(\n"
     ]
    },
    {
     "data": {
      "text/plain": [
       "<krmining.classification._logistic_regression.LogisticRegression at 0x1e7f9d667c0>"
      ]
     },
     "execution_count": 4,
     "metadata": {},
     "output_type": "execute_result"
    }
   ],
   "source": [
    "lgr = LogisticRegression()\n",
    "lgr.fit(X, y)"
   ]
  },
  {
   "cell_type": "code",
   "execution_count": 5,
   "id": "a90a46a3",
   "metadata": {},
   "outputs": [
    {
     "data": {
      "text/plain": [
       "array([[0.52671711, 0.47328289],\n",
       "       [0.51747205, 0.48252795],\n",
       "       [0.48404104, 0.51595896],\n",
       "       [0.48364057, 0.51635943],\n",
       "       [0.54810921, 0.45189079],\n",
       "       [0.54600006, 0.45399994],\n",
       "       [0.50213917, 0.49786083],\n",
       "       [0.48752185, 0.51247815],\n",
       "       [0.48847894, 0.51152106],\n",
       "       [0.44865452, 0.55134548]])"
      ]
     },
     "execution_count": 5,
     "metadata": {},
     "output_type": "execute_result"
    }
   ],
   "source": [
    "lgr.predict(X)"
   ]
  }
 ],
 "metadata": {
  "kernelspec": {
   "display_name": "Python 3",
   "language": "python",
   "name": "python3"
  },
  "language_info": {
   "codemirror_mode": {
    "name": "ipython",
    "version": 3
   },
   "file_extension": ".py",
   "mimetype": "text/x-python",
   "name": "python",
   "nbconvert_exporter": "python",
   "pygments_lexer": "ipython3",
   "version": "3.8.8"
  }
 },
 "nbformat": 4,
 "nbformat_minor": 5
}
