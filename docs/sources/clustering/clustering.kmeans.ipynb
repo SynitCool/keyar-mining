{
 "cells": [
  {
   "cell_type": "code",
   "execution_count": 1,
   "id": "6e8e1d3f",
   "metadata": {},
   "outputs": [],
   "source": [
    "from krmining.clustering import KMeans\n",
    "from krmining.datasets import make_covid_id\n",
    "from krmining.datasets import get_example_covid_id"
   ]
  },
  {
   "cell_type": "markdown",
   "id": "fd9eb9fb",
   "metadata": {},
   "source": [
    "# Using datasets data"
   ]
  },
  {
   "cell_type": "code",
   "execution_count": 2,
   "id": "4ccae680",
   "metadata": {},
   "outputs": [
    {
     "data": {
      "text/html": [
       "<div>\n",
       "<style scoped>\n",
       "    .dataframe tbody tr th:only-of-type {\n",
       "        vertical-align: middle;\n",
       "    }\n",
       "\n",
       "    .dataframe tbody tr th {\n",
       "        vertical-align: top;\n",
       "    }\n",
       "\n",
       "    .dataframe thead th {\n",
       "        text-align: right;\n",
       "    }\n",
       "</style>\n",
       "<table border=\"1\" class=\"dataframe\">\n",
       "  <thead>\n",
       "    <tr style=\"text-align: right;\">\n",
       "      <th></th>\n",
       "      <th>Province</th>\n",
       "      <th>Daily_Case</th>\n",
       "      <th>Daily_Death</th>\n",
       "      <th>Daily_Recovered</th>\n",
       "      <th>Daily_Active_Case</th>\n",
       "      <th>Cumulative_Case</th>\n",
       "      <th>Cumulative_Recovered</th>\n",
       "      <th>Cumulative_Death</th>\n",
       "      <th>Cumulative_Active_Case</th>\n",
       "    </tr>\n",
       "  </thead>\n",
       "  <tbody>\n",
       "    <tr>\n",
       "      <th>0</th>\n",
       "      <td>ACEH</td>\n",
       "      <td>11237</td>\n",
       "      <td>449</td>\n",
       "      <td>9785</td>\n",
       "      <td>1003</td>\n",
       "      <td>1995884</td>\n",
       "      <td>1537250</td>\n",
       "      <td>79429</td>\n",
       "      <td>379205</td>\n",
       "    </tr>\n",
       "    <tr>\n",
       "      <th>1</th>\n",
       "      <td>BALI</td>\n",
       "      <td>44896</td>\n",
       "      <td>1231</td>\n",
       "      <td>41985</td>\n",
       "      <td>1680</td>\n",
       "      <td>5689598</td>\n",
       "      <td>5100446</td>\n",
       "      <td>151968</td>\n",
       "      <td>437184</td>\n",
       "    </tr>\n",
       "    <tr>\n",
       "      <th>2</th>\n",
       "      <td>BANTEN</td>\n",
       "      <td>47451</td>\n",
       "      <td>1207</td>\n",
       "      <td>44197</td>\n",
       "      <td>2047</td>\n",
       "      <td>5276319</td>\n",
       "      <td>4847946</td>\n",
       "      <td>154955</td>\n",
       "      <td>273418</td>\n",
       "    </tr>\n",
       "    <tr>\n",
       "      <th>3</th>\n",
       "      <td>BENGKULU</td>\n",
       "      <td>6959</td>\n",
       "      <td>173</td>\n",
       "      <td>5939</td>\n",
       "      <td>847</td>\n",
       "      <td>804077</td>\n",
       "      <td>689618</td>\n",
       "      <td>26581</td>\n",
       "      <td>87878</td>\n",
       "    </tr>\n",
       "    <tr>\n",
       "      <th>4</th>\n",
       "      <td>DIY</td>\n",
       "      <td>39824</td>\n",
       "      <td>965</td>\n",
       "      <td>35045</td>\n",
       "      <td>3814</td>\n",
       "      <td>3984843</td>\n",
       "      <td>3098072</td>\n",
       "      <td>95229</td>\n",
       "      <td>791542</td>\n",
       "    </tr>\n",
       "  </tbody>\n",
       "</table>\n",
       "</div>"
      ],
      "text/plain": [
       "   Province  Daily_Case  Daily_Death  Daily_Recovered  Daily_Active_Case  \\\n",
       "0      ACEH       11237          449             9785               1003   \n",
       "1      BALI       44896         1231            41985               1680   \n",
       "2    BANTEN       47451         1207            44197               2047   \n",
       "3  BENGKULU        6959          173             5939                847   \n",
       "4       DIY       39824          965            35045               3814   \n",
       "\n",
       "   Cumulative_Case  Cumulative_Recovered  Cumulative_Death  \\\n",
       "0          1995884               1537250             79429   \n",
       "1          5689598               5100446            151968   \n",
       "2          5276319               4847946            154955   \n",
       "3           804077                689618             26581   \n",
       "4          3984843               3098072             95229   \n",
       "\n",
       "   Cumulative_Active_Case  \n",
       "0                  379205  \n",
       "1                  437184  \n",
       "2                  273418  \n",
       "3                   87878  \n",
       "4                  791542  "
      ]
     },
     "execution_count": 2,
     "metadata": {},
     "output_type": "execute_result"
    }
   ],
   "source": [
    "df = make_covid_id()\n",
    "\n",
    "df.head()"
   ]
  },
  {
   "cell_type": "code",
   "execution_count": 3,
   "id": "f4037140",
   "metadata": {},
   "outputs": [
    {
     "name": "stdout",
     "output_type": "stream",
     "text": [
      "<class 'pandas.core.frame.DataFrame'>\n",
      "RangeIndex: 34 entries, 0 to 33\n",
      "Data columns (total 9 columns):\n",
      " #   Column                  Non-Null Count  Dtype \n",
      "---  ------                  --------------  ----- \n",
      " 0   Province                34 non-null     object\n",
      " 1   Daily_Case              34 non-null     int64 \n",
      " 2   Daily_Death             34 non-null     int64 \n",
      " 3   Daily_Recovered         34 non-null     int64 \n",
      " 4   Daily_Active_Case       34 non-null     int64 \n",
      " 5   Cumulative_Case         34 non-null     int64 \n",
      " 6   Cumulative_Recovered    34 non-null     int64 \n",
      " 7   Cumulative_Death        34 non-null     int64 \n",
      " 8   Cumulative_Active_Case  34 non-null     int64 \n",
      "dtypes: int64(8), object(1)\n",
      "memory usage: 2.5+ KB\n"
     ]
    }
   ],
   "source": [
    "df.info()"
   ]
  },
  {
   "cell_type": "markdown",
   "id": "d525a3d9",
   "metadata": {},
   "source": [
    "## Using examples dataset"
   ]
  },
  {
   "cell_type": "code",
   "execution_count": 4,
   "id": "3e276be7",
   "metadata": {},
   "outputs": [
    {
     "data": {
      "text/html": [
       "<div>\n",
       "<style scoped>\n",
       "    .dataframe tbody tr th:only-of-type {\n",
       "        vertical-align: middle;\n",
       "    }\n",
       "\n",
       "    .dataframe tbody tr th {\n",
       "        vertical-align: top;\n",
       "    }\n",
       "\n",
       "    .dataframe thead th {\n",
       "        text-align: right;\n",
       "    }\n",
       "</style>\n",
       "<table border=\"1\" class=\"dataframe\">\n",
       "  <thead>\n",
       "    <tr style=\"text-align: right;\">\n",
       "      <th></th>\n",
       "      <th>Daily_Case</th>\n",
       "      <th>Daily_Death</th>\n",
       "    </tr>\n",
       "  </thead>\n",
       "  <tbody>\n",
       "    <tr>\n",
       "      <th>0</th>\n",
       "      <td>11237</td>\n",
       "      <td>449</td>\n",
       "    </tr>\n",
       "    <tr>\n",
       "      <th>1</th>\n",
       "      <td>44896</td>\n",
       "      <td>1231</td>\n",
       "    </tr>\n",
       "    <tr>\n",
       "      <th>2</th>\n",
       "      <td>47451</td>\n",
       "      <td>1207</td>\n",
       "    </tr>\n",
       "    <tr>\n",
       "      <th>3</th>\n",
       "      <td>6959</td>\n",
       "      <td>173</td>\n",
       "    </tr>\n",
       "    <tr>\n",
       "      <th>4</th>\n",
       "      <td>39824</td>\n",
       "      <td>965</td>\n",
       "    </tr>\n",
       "  </tbody>\n",
       "</table>\n",
       "</div>"
      ],
      "text/plain": [
       "   Daily_Case  Daily_Death\n",
       "0       11237          449\n",
       "1       44896         1231\n",
       "2       47451         1207\n",
       "3        6959          173\n",
       "4       39824          965"
      ]
     },
     "execution_count": 4,
     "metadata": {},
     "output_type": "execute_result"
    }
   ],
   "source": [
    "df = get_example_covid_id()\n",
    "\n",
    "df.head()"
   ]
  },
  {
   "cell_type": "code",
   "execution_count": 5,
   "id": "d5a3584d",
   "metadata": {},
   "outputs": [
    {
     "name": "stdout",
     "output_type": "stream",
     "text": [
      "<class 'pandas.core.frame.DataFrame'>\n",
      "RangeIndex: 34 entries, 0 to 33\n",
      "Data columns (total 2 columns):\n",
      " #   Column       Non-Null Count  Dtype\n",
      "---  ------       --------------  -----\n",
      " 0   Daily_Case   34 non-null     int64\n",
      " 1   Daily_Death  34 non-null     int64\n",
      "dtypes: int64(2)\n",
      "memory usage: 672.0 bytes\n"
     ]
    }
   ],
   "source": [
    "df.info()"
   ]
  },
  {
   "cell_type": "code",
   "execution_count": 6,
   "id": "1f50acbe",
   "metadata": {},
   "outputs": [
    {
     "name": "stderr",
     "output_type": "stream",
     "text": [
      "C:\\Users\\Bina Umat\\anaconda3\\lib\\site-packages\\krmining\\clustering\\_kmeans.py:22: UserWarning: The model still in maintaining in slow or extended memory\n",
      "  warnings.warn(\n"
     ]
    },
    {
     "data": {
      "text/plain": [
       "<krmining.clustering._kmeans.KMeans at 0x27022eb7a30>"
      ]
     },
     "execution_count": 6,
     "metadata": {},
     "output_type": "execute_result"
    }
   ],
   "source": [
    "kmeans = KMeans(3)\n",
    "kmeans.fit(df)"
   ]
  },
  {
   "cell_type": "code",
   "execution_count": 7,
   "id": "9ede9ef7",
   "metadata": {},
   "outputs": [
    {
     "data": {
      "text/plain": [
       "{'sse_cluster_0': 8959621596.733332,\n",
       " 'sse_all_cluster': 18654494327.4,\n",
       " 'sse_cluster_1': 0.0,\n",
       " 'sse_cluster_2': 9694872730.666668}"
      ]
     },
     "execution_count": 7,
     "metadata": {},
     "output_type": "execute_result"
    }
   ],
   "source": [
    "kmeans.evaluate(df)"
   ]
  },
  {
   "cell_type": "code",
   "execution_count": 8,
   "id": "489f5088",
   "metadata": {},
   "outputs": [
    {
     "data": {
      "text/plain": [
       "<krmining.clustering._kmeans.KMeans at 0x27022ee8910>"
      ]
     },
     "execution_count": 8,
     "metadata": {},
     "output_type": "execute_result"
    }
   ],
   "source": [
    "kmeans = KMeans(3, init=\"random\")\n",
    "kmeans.fit(df)"
   ]
  },
  {
   "cell_type": "code",
   "execution_count": 9,
   "id": "04efe5b9",
   "metadata": {},
   "outputs": [
    {
     "data": {
      "text/plain": [
       "{'sse_cluster_0': 1759594376.2916665,\n",
       " 'sse_all_cluster': 36157681312.8631,\n",
       " 'sse_cluster_1': 8760559192.57143,\n",
       " 'sse_cluster_2': 25637527744.0}"
      ]
     },
     "execution_count": 9,
     "metadata": {},
     "output_type": "execute_result"
    }
   ],
   "source": [
    "kmeans.evaluate(df)"
   ]
  }
 ],
 "metadata": {
  "kernelspec": {
   "display_name": "Python 3",
   "language": "python",
   "name": "python3"
  },
  "language_info": {
   "codemirror_mode": {
    "name": "ipython",
    "version": 3
   },
   "file_extension": ".py",
   "mimetype": "text/x-python",
   "name": "python",
   "nbconvert_exporter": "python",
   "pygments_lexer": "ipython3",
   "version": "3.8.8"
  }
 },
 "nbformat": 4,
 "nbformat_minor": 5
}
