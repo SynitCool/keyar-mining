{
 "cells": [
  {
   "cell_type": "code",
   "execution_count": 1,
   "id": "2b3a9d0f",
   "metadata": {},
   "outputs": [],
   "source": [
    "from krmining.association_rules import apriori\n",
    "from krmining.datasets import make_fruit_sold_dummy_association_rules"
   ]
  },
  {
   "cell_type": "markdown",
   "id": "054fc09f",
   "metadata": {},
   "source": [
    "# Using dummy data"
   ]
  },
  {
   "cell_type": "code",
   "execution_count": 2,
   "id": "1f441cf9",
   "metadata": {},
   "outputs": [
    {
     "data": {
      "text/html": [
       "<div>\n",
       "<style scoped>\n",
       "    .dataframe tbody tr th:only-of-type {\n",
       "        vertical-align: middle;\n",
       "    }\n",
       "\n",
       "    .dataframe tbody tr th {\n",
       "        vertical-align: top;\n",
       "    }\n",
       "\n",
       "    .dataframe thead th {\n",
       "        text-align: right;\n",
       "    }\n",
       "</style>\n",
       "<table border=\"1\" class=\"dataframe\">\n",
       "  <thead>\n",
       "    <tr style=\"text-align: right;\">\n",
       "      <th>Description</th>\n",
       "      <th>apple</th>\n",
       "      <th>banana</th>\n",
       "      <th>mango</th>\n",
       "      <th>strawberry</th>\n",
       "    </tr>\n",
       "    <tr>\n",
       "      <th>InvoiceNo</th>\n",
       "      <th></th>\n",
       "      <th></th>\n",
       "      <th></th>\n",
       "      <th></th>\n",
       "    </tr>\n",
       "  </thead>\n",
       "  <tbody>\n",
       "    <tr>\n",
       "      <th>1</th>\n",
       "      <td>1</td>\n",
       "      <td>1</td>\n",
       "      <td>1</td>\n",
       "      <td>0</td>\n",
       "    </tr>\n",
       "    <tr>\n",
       "      <th>2</th>\n",
       "      <td>1</td>\n",
       "      <td>1</td>\n",
       "      <td>1</td>\n",
       "      <td>1</td>\n",
       "    </tr>\n",
       "    <tr>\n",
       "      <th>3</th>\n",
       "      <td>0</td>\n",
       "      <td>1</td>\n",
       "      <td>1</td>\n",
       "      <td>1</td>\n",
       "    </tr>\n",
       "  </tbody>\n",
       "</table>\n",
       "</div>"
      ],
      "text/plain": [
       "Description  apple  banana  mango  strawberry\n",
       "InvoiceNo                                    \n",
       "1                1       1      1           0\n",
       "2                1       1      1           1\n",
       "3                0       1      1           1"
      ]
     },
     "execution_count": 2,
     "metadata": {},
     "output_type": "execute_result"
    }
   ],
   "source": [
    "df = make_fruit_sold_dummy_association_rules()\n",
    "\n",
    "df.head()"
   ]
  },
  {
   "cell_type": "code",
   "execution_count": 3,
   "id": "fffb9051",
   "metadata": {},
   "outputs": [
    {
     "name": "stdout",
     "output_type": "stream",
     "text": [
      "<class 'pandas.core.frame.DataFrame'>\n",
      "Int64Index: 3 entries, 1 to 3\n",
      "Data columns (total 4 columns):\n",
      " #   Column      Non-Null Count  Dtype\n",
      "---  ------      --------------  -----\n",
      " 0   apple       3 non-null      int64\n",
      " 1   banana      3 non-null      int64\n",
      " 2   mango       3 non-null      int64\n",
      " 3   strawberry  3 non-null      int64\n",
      "dtypes: int64(4)\n",
      "memory usage: 120.0 bytes\n"
     ]
    }
   ],
   "source": [
    "df.info()"
   ]
  },
  {
   "cell_type": "code",
   "execution_count": 4,
   "id": "2cd5447c",
   "metadata": {},
   "outputs": [
    {
     "name": "stderr",
     "output_type": "stream",
     "text": [
      "C:\\Users\\Bina Umat\\anaconda3\\lib\\site-packages\\krmining\\association_rules\\_apriori.py:96: UserWarning: The model still in maintaining in slow or extended memory\n",
      "  warnings.warn(\n"
     ]
    },
    {
     "data": {
      "text/plain": [
       "array([[('apple',), 0.6666666666666666],\n",
       "       [('banana',), 1.0],\n",
       "       [('mango',), 1.0],\n",
       "       [('strawberry',), 0.6666666666666666],\n",
       "       [('apple', 'banana'), 0.6666666666666666],\n",
       "       [('apple', 'mango'), 0.6666666666666666],\n",
       "       [('banana', 'mango'), 1.0],\n",
       "       [('banana', 'strawberry'), 0.6666666666666666],\n",
       "       [('mango', 'strawberry'), 0.6666666666666666],\n",
       "       [('apple', 'banana', 'mango'), 0.6666666666666666],\n",
       "       [('banana', 'mango', 'strawberry'), 0.6666666666666666]],\n",
       "      dtype=object)"
      ]
     },
     "execution_count": 4,
     "metadata": {},
     "output_type": "execute_result"
    }
   ],
   "source": [
    "apriori(df)"
   ]
  },
  {
   "cell_type": "code",
   "execution_count": 5,
   "id": "ad463b25",
   "metadata": {},
   "outputs": [
    {
     "data": {
      "text/html": [
       "<div>\n",
       "<style scoped>\n",
       "    .dataframe tbody tr th:only-of-type {\n",
       "        vertical-align: middle;\n",
       "    }\n",
       "\n",
       "    .dataframe tbody tr th {\n",
       "        vertical-align: top;\n",
       "    }\n",
       "\n",
       "    .dataframe thead th {\n",
       "        text-align: right;\n",
       "    }\n",
       "</style>\n",
       "<table border=\"1\" class=\"dataframe\">\n",
       "  <thead>\n",
       "    <tr style=\"text-align: right;\">\n",
       "      <th></th>\n",
       "      <th>Combinations</th>\n",
       "      <th>Supports</th>\n",
       "    </tr>\n",
       "  </thead>\n",
       "  <tbody>\n",
       "    <tr>\n",
       "      <th>0</th>\n",
       "      <td>(apple,)</td>\n",
       "      <td>0.666667</td>\n",
       "    </tr>\n",
       "    <tr>\n",
       "      <th>1</th>\n",
       "      <td>(banana,)</td>\n",
       "      <td>1.0</td>\n",
       "    </tr>\n",
       "    <tr>\n",
       "      <th>2</th>\n",
       "      <td>(mango,)</td>\n",
       "      <td>1.0</td>\n",
       "    </tr>\n",
       "    <tr>\n",
       "      <th>3</th>\n",
       "      <td>(strawberry,)</td>\n",
       "      <td>0.666667</td>\n",
       "    </tr>\n",
       "    <tr>\n",
       "      <th>4</th>\n",
       "      <td>(apple, banana)</td>\n",
       "      <td>0.666667</td>\n",
       "    </tr>\n",
       "    <tr>\n",
       "      <th>5</th>\n",
       "      <td>(apple, mango)</td>\n",
       "      <td>0.666667</td>\n",
       "    </tr>\n",
       "    <tr>\n",
       "      <th>6</th>\n",
       "      <td>(banana, mango)</td>\n",
       "      <td>1.0</td>\n",
       "    </tr>\n",
       "    <tr>\n",
       "      <th>7</th>\n",
       "      <td>(banana, strawberry)</td>\n",
       "      <td>0.666667</td>\n",
       "    </tr>\n",
       "    <tr>\n",
       "      <th>8</th>\n",
       "      <td>(mango, strawberry)</td>\n",
       "      <td>0.666667</td>\n",
       "    </tr>\n",
       "    <tr>\n",
       "      <th>9</th>\n",
       "      <td>(apple, banana, mango)</td>\n",
       "      <td>0.666667</td>\n",
       "    </tr>\n",
       "    <tr>\n",
       "      <th>10</th>\n",
       "      <td>(banana, mango, strawberry)</td>\n",
       "      <td>0.666667</td>\n",
       "    </tr>\n",
       "  </tbody>\n",
       "</table>\n",
       "</div>"
      ],
      "text/plain": [
       "                   Combinations  Supports\n",
       "0                      (apple,)  0.666667\n",
       "1                     (banana,)       1.0\n",
       "2                      (mango,)       1.0\n",
       "3                 (strawberry,)  0.666667\n",
       "4               (apple, banana)  0.666667\n",
       "5                (apple, mango)  0.666667\n",
       "6               (banana, mango)       1.0\n",
       "7          (banana, strawberry)  0.666667\n",
       "8           (mango, strawberry)  0.666667\n",
       "9        (apple, banana, mango)  0.666667\n",
       "10  (banana, mango, strawberry)  0.666667"
      ]
     },
     "execution_count": 5,
     "metadata": {},
     "output_type": "execute_result"
    }
   ],
   "source": [
    "apriori(df, return_df=True)"
   ]
  }
 ],
 "metadata": {
  "kernelspec": {
   "display_name": "Python 3",
   "language": "python",
   "name": "python3"
  },
  "language_info": {
   "codemirror_mode": {
    "name": "ipython",
    "version": 3
   },
   "file_extension": ".py",
   "mimetype": "text/x-python",
   "name": "python",
   "nbconvert_exporter": "python",
   "pygments_lexer": "ipython3",
   "version": "3.8.8"
  }
 },
 "nbformat": 4,
 "nbformat_minor": 5
}
