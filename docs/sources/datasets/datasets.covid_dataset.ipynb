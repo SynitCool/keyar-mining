{
 "cells": [
  {
   "cell_type": "code",
   "execution_count": 1,
   "id": "430c4d6c",
   "metadata": {},
   "outputs": [],
   "source": [
    "from krmining.datasets import make_covid_id\n",
    "from krmining.datasets import get_example_covid_id"
   ]
  },
  {
   "cell_type": "markdown",
   "id": "31c66efc",
   "metadata": {},
   "source": [
    "# Make covid dataset"
   ]
  },
  {
   "cell_type": "code",
   "execution_count": 2,
   "id": "fb2b9685",
   "metadata": {},
   "outputs": [
    {
     "data": {
      "text/html": [
       "<div>\n",
       "<style scoped>\n",
       "    .dataframe tbody tr th:only-of-type {\n",
       "        vertical-align: middle;\n",
       "    }\n",
       "\n",
       "    .dataframe tbody tr th {\n",
       "        vertical-align: top;\n",
       "    }\n",
       "\n",
       "    .dataframe thead th {\n",
       "        text-align: right;\n",
       "    }\n",
       "</style>\n",
       "<table border=\"1\" class=\"dataframe\">\n",
       "  <thead>\n",
       "    <tr style=\"text-align: right;\">\n",
       "      <th></th>\n",
       "      <th>Province</th>\n",
       "      <th>Daily_Case</th>\n",
       "      <th>Daily_Death</th>\n",
       "      <th>Daily_Recovered</th>\n",
       "      <th>Daily_Active_Case</th>\n",
       "      <th>Cumulative_Case</th>\n",
       "      <th>Cumulative_Recovered</th>\n",
       "      <th>Cumulative_Death</th>\n",
       "      <th>Cumulative_Active_Case</th>\n",
       "    </tr>\n",
       "  </thead>\n",
       "  <tbody>\n",
       "    <tr>\n",
       "      <th>0</th>\n",
       "      <td>ACEH</td>\n",
       "      <td>11237</td>\n",
       "      <td>449</td>\n",
       "      <td>9785</td>\n",
       "      <td>1003</td>\n",
       "      <td>1995884</td>\n",
       "      <td>1537250</td>\n",
       "      <td>79429</td>\n",
       "      <td>379205</td>\n",
       "    </tr>\n",
       "    <tr>\n",
       "      <th>1</th>\n",
       "      <td>BALI</td>\n",
       "      <td>44896</td>\n",
       "      <td>1231</td>\n",
       "      <td>41985</td>\n",
       "      <td>1680</td>\n",
       "      <td>5689598</td>\n",
       "      <td>5100446</td>\n",
       "      <td>151968</td>\n",
       "      <td>437184</td>\n",
       "    </tr>\n",
       "    <tr>\n",
       "      <th>2</th>\n",
       "      <td>BANTEN</td>\n",
       "      <td>47451</td>\n",
       "      <td>1207</td>\n",
       "      <td>44197</td>\n",
       "      <td>2047</td>\n",
       "      <td>5276319</td>\n",
       "      <td>4847946</td>\n",
       "      <td>154955</td>\n",
       "      <td>273418</td>\n",
       "    </tr>\n",
       "    <tr>\n",
       "      <th>3</th>\n",
       "      <td>BENGKULU</td>\n",
       "      <td>6959</td>\n",
       "      <td>173</td>\n",
       "      <td>5939</td>\n",
       "      <td>847</td>\n",
       "      <td>804077</td>\n",
       "      <td>689618</td>\n",
       "      <td>26581</td>\n",
       "      <td>87878</td>\n",
       "    </tr>\n",
       "    <tr>\n",
       "      <th>4</th>\n",
       "      <td>DIY</td>\n",
       "      <td>39824</td>\n",
       "      <td>965</td>\n",
       "      <td>35045</td>\n",
       "      <td>3814</td>\n",
       "      <td>3984843</td>\n",
       "      <td>3098072</td>\n",
       "      <td>95229</td>\n",
       "      <td>791542</td>\n",
       "    </tr>\n",
       "  </tbody>\n",
       "</table>\n",
       "</div>"
      ],
      "text/plain": [
       "   Province  Daily_Case  Daily_Death  Daily_Recovered  Daily_Active_Case  \\\n",
       "0      ACEH       11237          449             9785               1003   \n",
       "1      BALI       44896         1231            41985               1680   \n",
       "2    BANTEN       47451         1207            44197               2047   \n",
       "3  BENGKULU        6959          173             5939                847   \n",
       "4       DIY       39824          965            35045               3814   \n",
       "\n",
       "   Cumulative_Case  Cumulative_Recovered  Cumulative_Death  \\\n",
       "0          1995884               1537250             79429   \n",
       "1          5689598               5100446            151968   \n",
       "2          5276319               4847946            154955   \n",
       "3           804077                689618             26581   \n",
       "4          3984843               3098072             95229   \n",
       "\n",
       "   Cumulative_Active_Case  \n",
       "0                  379205  \n",
       "1                  437184  \n",
       "2                  273418  \n",
       "3                   87878  \n",
       "4                  791542  "
      ]
     },
     "execution_count": 2,
     "metadata": {},
     "output_type": "execute_result"
    }
   ],
   "source": [
    "df = make_covid_id()\n",
    "\n",
    "df.head()"
   ]
  },
  {
   "cell_type": "code",
   "execution_count": 3,
   "id": "6ee7a2e1",
   "metadata": {},
   "outputs": [
    {
     "name": "stdout",
     "output_type": "stream",
     "text": [
      "<class 'pandas.core.frame.DataFrame'>\n",
      "RangeIndex: 34 entries, 0 to 33\n",
      "Data columns (total 9 columns):\n",
      " #   Column                  Non-Null Count  Dtype \n",
      "---  ------                  --------------  ----- \n",
      " 0   Province                34 non-null     object\n",
      " 1   Daily_Case              34 non-null     int64 \n",
      " 2   Daily_Death             34 non-null     int64 \n",
      " 3   Daily_Recovered         34 non-null     int64 \n",
      " 4   Daily_Active_Case       34 non-null     int64 \n",
      " 5   Cumulative_Case         34 non-null     int64 \n",
      " 6   Cumulative_Recovered    34 non-null     int64 \n",
      " 7   Cumulative_Death        34 non-null     int64 \n",
      " 8   Cumulative_Active_Case  34 non-null     int64 \n",
      "dtypes: int64(8), object(1)\n",
      "memory usage: 2.5+ KB\n"
     ]
    }
   ],
   "source": [
    "df.info()"
   ]
  },
  {
   "cell_type": "markdown",
   "id": "df428f5d",
   "metadata": {},
   "source": [
    "# Example of covid dataset"
   ]
  },
  {
   "cell_type": "code",
   "execution_count": 4,
   "id": "e8a82c9a",
   "metadata": {},
   "outputs": [
    {
     "data": {
      "text/html": [
       "<div>\n",
       "<style scoped>\n",
       "    .dataframe tbody tr th:only-of-type {\n",
       "        vertical-align: middle;\n",
       "    }\n",
       "\n",
       "    .dataframe tbody tr th {\n",
       "        vertical-align: top;\n",
       "    }\n",
       "\n",
       "    .dataframe thead th {\n",
       "        text-align: right;\n",
       "    }\n",
       "</style>\n",
       "<table border=\"1\" class=\"dataframe\">\n",
       "  <thead>\n",
       "    <tr style=\"text-align: right;\">\n",
       "      <th></th>\n",
       "      <th>Daily_Case</th>\n",
       "      <th>Daily_Death</th>\n",
       "    </tr>\n",
       "  </thead>\n",
       "  <tbody>\n",
       "    <tr>\n",
       "      <th>0</th>\n",
       "      <td>11237</td>\n",
       "      <td>449</td>\n",
       "    </tr>\n",
       "    <tr>\n",
       "      <th>1</th>\n",
       "      <td>44896</td>\n",
       "      <td>1231</td>\n",
       "    </tr>\n",
       "    <tr>\n",
       "      <th>2</th>\n",
       "      <td>47451</td>\n",
       "      <td>1207</td>\n",
       "    </tr>\n",
       "    <tr>\n",
       "      <th>3</th>\n",
       "      <td>6959</td>\n",
       "      <td>173</td>\n",
       "    </tr>\n",
       "    <tr>\n",
       "      <th>4</th>\n",
       "      <td>39824</td>\n",
       "      <td>965</td>\n",
       "    </tr>\n",
       "  </tbody>\n",
       "</table>\n",
       "</div>"
      ],
      "text/plain": [
       "   Daily_Case  Daily_Death\n",
       "0       11237          449\n",
       "1       44896         1231\n",
       "2       47451         1207\n",
       "3        6959          173\n",
       "4       39824          965"
      ]
     },
     "execution_count": 4,
     "metadata": {},
     "output_type": "execute_result"
    }
   ],
   "source": [
    "df = get_example_covid_id()\n",
    "\n",
    "df.head()"
   ]
  },
  {
   "cell_type": "code",
   "execution_count": 5,
   "id": "eec267c2",
   "metadata": {},
   "outputs": [
    {
     "name": "stdout",
     "output_type": "stream",
     "text": [
      "<class 'pandas.core.frame.DataFrame'>\n",
      "RangeIndex: 34 entries, 0 to 33\n",
      "Data columns (total 2 columns):\n",
      " #   Column       Non-Null Count  Dtype\n",
      "---  ------       --------------  -----\n",
      " 0   Daily_Case   34 non-null     int64\n",
      " 1   Daily_Death  34 non-null     int64\n",
      "dtypes: int64(2)\n",
      "memory usage: 672.0 bytes\n"
     ]
    }
   ],
   "source": [
    "df.info()"
   ]
  }
 ],
 "metadata": {
  "kernelspec": {
   "display_name": "Python 3",
   "language": "python",
   "name": "python3"
  },
  "language_info": {
   "codemirror_mode": {
    "name": "ipython",
    "version": 3
   },
   "file_extension": ".py",
   "mimetype": "text/x-python",
   "name": "python",
   "nbconvert_exporter": "python",
   "pygments_lexer": "ipython3",
   "version": "3.8.8"
  }
 },
 "nbformat": 4,
 "nbformat_minor": 5
}
